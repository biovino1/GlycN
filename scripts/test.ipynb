{
 "cells": [
  {
   "cell_type": "code",
   "execution_count": 2,
   "metadata": {},
   "outputs": [],
   "source": [
    "import numpy as np\n",
    "\n",
    "data = np.load('../data/embeds.npy', allow_pickle=True)"
   ]
  },
  {
   "cell_type": "code",
   "execution_count": 4,
   "metadata": {},
   "outputs": [
    {
     "data": {
      "text/plain": [
       "array(['A0A075B759',\n",
       "       array([[ 0.5411447 ,  6.2874346 , -4.845624  , ...,  2.6213658 ,\n",
       "               -4.631151  , -0.82558835],\n",
       "              [-4.032815  ,  3.542048  , -0.30717638, ...,  3.4486141 ,\n",
       "               -4.825144  ,  0.2993034 ],\n",
       "              [-0.7820328 ,  3.5236862 ,  3.212387  , ...,  4.5194173 ,\n",
       "               -2.568044  , -2.9543362 ],\n",
       "              ...,\n",
       "              [ 2.0686707 ,  5.787937  ,  0.86341506, ..., -0.17417252,\n",
       "                2.5360003 , 11.502932  ],\n",
       "              [ 2.4750597 ,  5.658902  , -3.7005827 , ...,  1.0447797 ,\n",
       "                0.33875167,  9.587295  ],\n",
       "              [ 8.722623  , 11.205973  ,  2.7608385 , ...,  3.1439753 ,\n",
       "               -1.4725631 ,  2.1243472 ]], dtype=float32)              ],\n",
       "      dtype=object)"
      ]
     },
     "execution_count": 4,
     "metadata": {},
     "output_type": "execute_result"
    }
   ],
   "source": []
  },
  {
   "cell_type": "code",
   "execution_count": null,
   "metadata": {},
   "outputs": [],
   "source": []
  }
 ],
 "metadata": {
  "kernelspec": {
   "display_name": "SearchEmb",
   "language": "python",
   "name": "python3"
  },
  "language_info": {
   "codemirror_mode": {
    "name": "ipython",
    "version": 3
   },
   "file_extension": ".py",
   "mimetype": "text/x-python",
   "name": "python",
   "nbconvert_exporter": "python",
   "pygments_lexer": "ipython3",
   "version": "3.10.6"
  },
  "orig_nbformat": 4
 },
 "nbformat": 4,
 "nbformat_minor": 2
}
